{
 "cells": [
  {
   "cell_type": "code",
   "execution_count": 1,
   "metadata": {},
   "outputs": [],
   "source": [
    "import datetime\n",
    "import imutils\n",
    "import time\n",
    "import cv2"
   ]
  },
  {
   "cell_type": "code",
   "execution_count": 2,
   "metadata": {},
   "outputs": [],
   "source": [
    "#读取摄像头\n",
    "camera = cv2.VideoCapture(\"/home/xilinx/jupyter_notebooks//pynq_pedestrian/vtest.avi\")\n",
    "time.sleep(1)\n",
    "haarcascade_fullbody = cv2.CascadeClassifier('/home/xilinx/jupyter_notebooks//pynq_pedestrian/haarcascade_fullbody.xml')\n",
    "  \n",
    "# 初始化视频流的第一帧"
   ]
  },
  {
   "cell_type": "code",
   "execution_count": 5,
   "metadata": {},
   "outputs": [],
   "source": [
    "# 遍历视频的每一帧\n",
    "\n",
    "while True:\n",
    "    # 获取当前帧\n",
    "    time.sleep(0.08)\n",
    "    (grabbed, frame) = camera.read()\n",
    "    (grabbed, frame_next) = camera.read() \n",
    "    if grabbed == False:\n",
    "        break\n",
    "    # 调整该帧的大小，转换为灰阶图像并且对其进行高斯模糊\n",
    "    frame = imutils.resize(frame, width=500)\n",
    "    frame_next = imutils.resize(frame_next, width=500)    \n",
    "    gray = cv2.cvtColor(frame, cv2.COLOR_BGR2GRAY)\n",
    "    gray_next = cv2.cvtColor(frame_next, cv2.COLOR_BGR2GRAY)\n",
    "    #gray = cv2.GaussianBlur(gray, (21, 21), 0)         #可以加速\n",
    "    #gray_next = cv2.GaussianBlur(gray_next, (21, 21), 0)         #可以加速    \n",
    "    #作差\n",
    "    frame_delta = cv2.absdiff(gray_next, gray)\n",
    "    # 如果第一帧是None，对其进行初始化\n",
    "    # 计算当前帧和第一帧的不同\n",
    "    thresh = cv2.threshold(frame_delta, 25, 255, cv2.THRESH_BINARY)[1] #二值化函数,使用这个函数可以获取轮廓图案\n",
    " \n",
    "    # 扩展阈值图像填充孔洞，然后找到阈值图像上的轮廓\n",
    "    thresh = cv2.dilate(thresh, None, iterations=2)  \n",
    "    (cnts,b)= cv2.findContours(thresh.copy(), cv2.RETR_EXTERNAL,cv2.CHAIN_APPROX_SIMPLE)\n",
    "    list1=[]\n",
    "    list2=[]\n",
    "    list3=[]\n",
    "    list4=[]\n",
    "\n",
    "    # 遍历轮廓\n",
    "    for c in cnts:\n",
    "        # 如果轮廓太小，请忽略它\n",
    "        if cv2.contourArea(c) < 500:\n",
    "            continue\n",
    " \n",
    "        # 计算轮廓的边界框，在框架上绘制，并更新文本\n",
    "        # 计算轮廓的边界框，在当前帧中画出该框\n",
    "        (x, y, w, h) = cv2.boundingRect(c)\n",
    "        list1.append(x)\n",
    "        list2.append(y)\n",
    "        list3.append(w)\n",
    "        list4.append(h)\n",
    "        \n",
    "    x=min(list1)\n",
    "    y=min(list2)\n",
    "    w=max(list3)\n",
    "    h=max(list4)\n",
    "    #cv2.rectangle(frame, (x, y), (x + w, y + h), (0, 255, 0), 2)\n",
    "    #选取roi\n",
    "    frame_roi = frame[y-50:y+h+100,x-50:x+w+100]\n",
    "    #frame_roi = frame[y:y+h,x:x+w]\n",
    "    #cv2.imwrite('./image/'+str(m)+'_test'+'.jpg',frame_roi)\n",
    "    #img=Image.open('./image/'+str(m)+'_test'+'.jpg')\n",
    "    gray_frame = cv2.cvtColor(frame_roi, cv2.COLOR_BGR2GRAY)\n",
    "    body_detection = haarcascade_fullbody.detectMultiScale(gray_frame, 1.2, 5)\n",
    "    for (x, y, width, height) in body_detection:\n",
    "        cv2.rectangle(frame_roi, (x, y), (x+width, y+height), (0, 255, 255), 2)\n",
    "\n",
    "    #识别\n",
    "    #圈出人\n",
    "  \n",
    "    '''\n",
    "    print(x)\n",
    "    print(y)\n",
    "    print(w)\n",
    "    print(h)\n",
    "    '''\n",
    "    #cv2.rectangle(frame, (x-25, y-25), (x + w+25, y + h+25), (0, 255, 0), 2)\n",
    " \n",
    "    #显示当前帧\n",
    "    cv2.imshow(\"Security Feed\", frame)\n",
    "    #cv2.imshow(\"Thresh\", thresh)\n",
    "    #cqv2.imshow(\"Frame Delta\", frameDelta)\n",
    "\n",
    "    \n",
    "    key = cv2.waitKey(1)\n",
    " \n",
    "    # 如果q键被按下，跳出循环\n",
    "    if key == ord(\"q\"):\n",
    "        break\n"
   ]
  },
  {
   "cell_type": "code",
   "execution_count": 4,
   "metadata": {},
   "outputs": [],
   "source": [
    "# 清理摄像机资源并关闭打开的窗口\n",
    "camera.release()\n",
    "cv2.destroyAllWindows()"
   ]
  },
  {
   "cell_type": "code",
   "execution_count": null,
   "metadata": {},
   "outputs": [],
   "source": []
  }
 ],
 "metadata": {
  "kernelspec": {
   "display_name": "Python 3",
   "language": "python",
   "name": "python3"
  },
  "language_info": {
   "codemirror_mode": {
    "name": "ipython",
    "version": 3
   },
   "file_extension": ".py",
   "mimetype": "text/x-python",
   "name": "python",
   "nbconvert_exporter": "python",
   "pygments_lexer": "ipython3",
   "version": "3.6.5"
  }
 },
 "nbformat": 4,
 "nbformat_minor": 2
}
